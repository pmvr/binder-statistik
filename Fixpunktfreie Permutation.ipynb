{
 "cells": [
  {
   "cell_type": "markdown",
   "metadata": {},
   "source": [
    "# Fixpunktfreie Permutationen\n",
    "\n",
    "Auf einer Party mit $n$ Personen bringt jeder ein Geschenk mit, das bei einer Tombola\n",
    "verlost werden soll.\n",
    "\n",
    "Wie groß ist die Wahrscheinlichkeit $P_n$, dass niemand sein eigenes Geschenk\n",
    "wiederbekommt?\n",
    "\n",
    "Jeder Ausgang der Tombola ist gleichwahrscheinlich. Sei $d_n$ die Anzahl der fixpunktfreien Permutationen für $n \\ge 3$, dann lautet die Antwort\n",
    "$$ P_n = \\frac{d_n}{n!} $$\n",
    "\n",
    "Zu bestimmen ist als $d_n$. Offensichtlich ist $d_1 = 0$ und $d_2 = 1$.\n",
    "\n",
    "Man kann zeigen, dass für $d_n$ folgende Rekursionformel gilt:\n",
    "$$ d_n = (n-1) \\cdot (d_{n-1} + d_{n-2}) $$"
   ]
  },
  {
   "cell_type": "code",
   "execution_count": 1,
   "metadata": {},
   "outputs": [],
   "source": [
    "def fakultaet(n):\n",
    "    if n == 0:\n",
    "        return 1\n",
    "    else:\n",
    "        return n*fakultaet(n-1)\n",
    "\n",
    "def d(n):\n",
    "    if n == 1:\n",
    "        return 0\n",
    "    elif n == 2:\n",
    "        return 1\n",
    "    else:\n",
    "        return (n-1) * (d(n-1) + d(n-2))\n",
    "\n",
    "def P(n):\n",
    "    return d(n)/fakultaet(n)"
   ]
  },
  {
   "cell_type": "code",
   "execution_count": 2,
   "metadata": {},
   "outputs": [
    {
     "name": "stdout",
     "output_type": "stream",
     "text": [
      "    n  P(n)\n",
      "---------------\n",
      "    3  0.333333\n",
      "    4  0.375000\n",
      "    5  0.366667\n",
      "    6  0.368056\n",
      "    7  0.367857\n",
      "    8  0.367882\n",
      "    9  0.367879\n",
      "   10  0.367879\n",
      "   11  0.367879\n",
      "   12  0.367879\n",
      "   13  0.367879\n",
      "   14  0.367879\n",
      "   15  0.367879\n",
      "   16  0.367879\n",
      "   17  0.367879\n",
      "   18  0.367879\n",
      "   19  0.367879\n"
     ]
    }
   ],
   "source": [
    "print(\"%5s  %s\" % (\"n\", \"P(n)\"))\n",
    "print(\"---------------\")\n",
    "for n in range(3, 20):\n",
    "    print(\"%5i  %.6f\" % (n, P(n)))"
   ]
  },
  {
   "cell_type": "code",
   "execution_count": 3,
   "metadata": {},
   "outputs": [],
   "source": [
    "%matplotlib inline\n",
    "import matplotlib.pyplot as plt\n",
    "from math import e"
   ]
  },
  {
   "cell_type": "code",
   "execution_count": 4,
   "metadata": {},
   "outputs": [
    {
     "data": {
      "image/png": "[encoded data removed]",
      "text/plain": [
       "<Figure size 432x288 with 1 Axes>"
      ]
     },
     "metadata": {
      "needs_background": "light"
     },
     "output_type": "display_data"
    }
   ],
   "source": [
    "plt.plot(range(3,15), [P(n) for n in range(3,15)], '*')\n",
    "plt.plot(range(3,15), [1/e]*12, 'r-')\n",
    "plt.xlabel('n')\n",
    "plt.ylabel('Wahrscheinlichkeit $P_n$')\n",
    "plt.title('Fixpunktfreie Permutationen');"
   ]
  },
  {
   "cell_type": "code",
   "execution_count": null,
   "metadata": {},
   "outputs": [],
   "source": []
  }
 ],
 "metadata": {
  "kernelspec": {
   "display_name": "Python 3",
   "language": "python",
   "name": "python3"
  },
  "language_info": {
   "codemirror_mode": {
    "name": "ipython",
    "version": 3
   },
   "file_extension": ".py",
   "mimetype": "text/x-python",
   "name": "python",
   "nbconvert_exporter": "python",
   "pygments_lexer": "ipython3",
   "version": "3.6.10"
  }
 },
 "nbformat": 4,
 "nbformat_minor": 4
}
