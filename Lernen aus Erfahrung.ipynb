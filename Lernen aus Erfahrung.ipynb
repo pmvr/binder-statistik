{
 "cells": [
  {
   "cell_type": "markdown",
   "metadata": {},
   "source": [
    "# Lernen aus Erfahrung\n",
    "\n",
    "Gegeben sei 1 Urne mit 4 Kugeln. Es ist lediglich bekannt, dass die Urne entweder\n",
    "\n",
    "* 1 rote und 3 schwarze ($B_1$) Kugeln,\n",
    "* 2 rote und 2 schwarze ($B_2$) Kugeln oder\n",
    "* 3 rote und 1 schwarze ($B_3$) Kugel\n",
    "\n",
    "enthält (apriori-Wahrscheinlichkeiten $P(B_i)>0$, z.B. $P(B_i) = 1/3$).\n",
    "\n",
    "Wenn nun bei $n$-maligem Ziehen mit Zurücklegen rote bzw. schwarze Kugeln gezogen werden ($A$), was bedeutet dies für die aposteriori-Wahrscheinlichkeiten $P(B_i|A)$?\n",
    "\n",
    "Nach dem Satz von Bayes gilt\n",
    "$$ P(B_i | A) = \\frac{ P(A | B_i) \\cdot P(B_i)}{P(A)} = \\frac{ P(A | B_i) \\cdot P(B_i)}{P(A | B_1)P(B_1) + P(A | B_2)P(B_2)+ P(A | B_3)P(B_3)} $$"
   ]
  },
  {
   "cell_type": "code",
   "execution_count": 1,
   "metadata": {},
   "outputs": [],
   "source": [
    "from random import random\n",
    "\n",
    "class Wfkt(object):\n",
    "    # simuliert eine Wahrscheinlichkeitsfunktion\n",
    "    \n",
    "    def __init__(self, wahrscheinlichkeiten, name):\n",
    "        self.wahrscheinlichkeiten = wahrscheinlichkeiten\n",
    "        self.name = name\n",
    "        \n",
    "    def __getitem__(self, merkmal):\n",
    "        return self.wahrscheinlichkeiten.get(merkmal, 0)\n",
    "    \n",
    "    def X(self):\n",
    "        # Zufallsvariable\n",
    "        r = random()  # Zufallszahl in [0,1[\n",
    "        s = 0.0\n",
    "        for m, p in self.wahrscheinlichkeiten.items():\n",
    "            s += p\n",
    "            if r <= s: return m\n",
    "            \n",
    "    def ausgabe(self):\n",
    "        print(\"Wahrscheinlichkeit   Merkmal\")\n",
    "        print(\"----------------------------\")\n",
    "        for m in sorted(self.wahrscheinlichkeiten):\n",
    "            print('{0:18.2f}   {1:s}'.format(self.wahrscheinlichkeiten[m], str(m)))\n"
   ]
  },
  {
   "cell_type": "code",
   "execution_count": 2,
   "metadata": {},
   "outputs": [
    {
     "name": "stdout",
     "output_type": "stream",
     "text": [
      "Wahrscheinlichkeit   Merkmal\n",
      "----------------------------\n",
      "              0.25   r\n",
      "              0.75   s\n"
     ]
    }
   ],
   "source": [
    "B1 = Wfkt({'r':0.25, 's':0.75}, 'B1')\n",
    "B2 = Wfkt({'r':0.5, 's':0.5}, 'B2')\n",
    "B3 = Wfkt({'r':0.75, 's':0.25}, 'B3')\n",
    "\n",
    "B1.ausgabe()"
   ]
  },
  {
   "cell_type": "code",
   "execution_count": 3,
   "metadata": {},
   "outputs": [
    {
     "name": "stdout",
     "output_type": "stream",
     "text": [
      "['r', 'r', 'r', 's', 'r', 's', 's', 's', 'r', 'r', 'r', 'r', 's', 'r', 'r', 's', 's', 's', 's', 's']\n"
     ]
    }
   ],
   "source": [
    "# Beispiel: Wir ziehen 20 mal aus Urne B1\n",
    "print([B1.X() for _ in range(20)])"
   ]
  },
  {
   "cell_type": "code",
   "execution_count": 4,
   "metadata": {},
   "outputs": [
    {
     "name": "stdout",
     "output_type": "stream",
     "text": [
      "P('r') = 0.25\n"
     ]
    }
   ],
   "source": [
    "# Beispie: Für Urne B1 ist P('r')\n",
    "print(\"P('r') = %.02f\" % B1['r'])"
   ]
  },
  {
   "cell_type": "code",
   "execution_count": 5,
   "metadata": {},
   "outputs": [],
   "source": [
    "class Bayes(object):\n",
    "    # diese Klasse berechnet die Auswirkung von Beobachtungen auf apriori-Hypothesen\n",
    "    \n",
    "    def __init__(self, hypothesen):\n",
    "        self.hypothesen = hypothesen\n",
    "        \n",
    "    def beobachtung(self, daten, zeige_entwicklung = False):\n",
    "        for d in daten:\n",
    "            pa = sum([hypo[d] * self.hypothesen[hypo] for hypo in self.hypothesen.keys()])  # P(A)\n",
    "            for hypo in self.hypothesen.keys():\n",
    "                self.hypothesen[hypo] = hypo[d] * self.hypothesen[hypo] / pa   # P(A|B_i) * P(B_i) / P(A)\n",
    "            if zeige_entwicklung == True:\n",
    "                print('Beobachtung:', d)\n",
    "                self.ausgabe()\n",
    "                \n",
    "    def ausgabe(self):\n",
    "        print(\"Wahrscheinlichkeit   Hypothese\")\n",
    "        print(\"----------------------------\")\n",
    "        for hypos in sorted(self.hypothesen.keys(), key=lambda x: x.name):\n",
    "            print('{0:18.2f}   {1:s}'.format(self.hypothesen[hypos], hypos.name))\n",
    "            \n",
    "    def get(self):\n",
    "        return [[self.hypothesen[hypos], hypos.name] for hypos in sorted(self.hypothesen.keys(), key=lambda x: x.name)]\n"
   ]
  },
  {
   "cell_type": "markdown",
   "metadata": {},
   "source": [
    "## Beispiel \n",
    "\n",
    "Wir nehmen an, dass jede Urne mit der Wahrscheinlichkeit 1/3 vor uns steht.\n",
    "\n",
    "Nun beobachten wir das Ziehen einer roten Kugel 'r', Ereignis A.\n",
    "\n",
    "Für die aposterio-Wahrscheinlichkeit, dass die Urne $B_1$ vor uns steht bedeutet das\n",
    "\n",
    "$$ P(B_1 | A) = \\frac{ P(A | B_1) \\cdot P(B_1)}{P(A | B_1)P(B_1) + P(A | B_2)P(B_2) + P(A | B_3)P(B_3)} \n",
    "              = \\frac{0.25 * 0.\\overline 3}{0.25 * 0.\\overline 3 + 0.5 * 0.\\overline 3 + 0.75 * 0.\\overline 3} = 0.1\\overline 6$$\n",
    "              \n",
    "Nach der Rechnung ist $P(B_1 | A)$ die neue apriori-Wahrscheinlichkeit $P(B_1)$."
   ]
  },
  {
   "cell_type": "code",
   "execution_count": 6,
   "metadata": {},
   "outputs": [
    {
     "name": "stdout",
     "output_type": "stream",
     "text": [
      "Annahmen vor der Beobachtung\n",
      "Wahrscheinlichkeit   Hypothese\n",
      "----------------------------\n",
      "              0.33   B1\n",
      "              0.33   B2\n",
      "              0.33   B3\n",
      "\n",
      "\n",
      "Annahmen nach der Beobachtung einer roten Kugel\n",
      "Wahrscheinlichkeit   Hypothese\n",
      "----------------------------\n",
      "              0.17   B1\n",
      "              0.33   B2\n",
      "              0.50   B3\n"
     ]
    }
   ],
   "source": [
    "# Beispiel: Alle Urnen sind gleichwahrscheinlich, und wir Beobachten 'r'\n",
    "urnen = Bayes({B1: 1/3, B2: 1/3, B3: 1/3})\n",
    "print(\"Annahmen vor der Beobachtung\")\n",
    "urnen.ausgabe()\n",
    "urnen.beobachtung(['r'])\n",
    "print(\"\\n\\nAnnahmen nach der Beobachtung einer roten Kugel\")\n",
    "urnen.ausgabe()"
   ]
  },
  {
   "cell_type": "markdown",
   "metadata": {},
   "source": [
    "## Beispiel\n",
    "\n",
    "Wir simulieren das Vorliegen von Urne $B_1$, aus der wir 10-mal ziehen.\n",
    "\n",
    "Wir wollen analysieren, wie sich unsere Hypothesen mit dem Ziehen verändern."
   ]
  },
  {
   "cell_type": "code",
   "execution_count": 7,
   "metadata": {},
   "outputs": [
    {
     "name": "stdout",
     "output_type": "stream",
     "text": [
      "Annahmen vor der Beobachtung\n",
      "Wahrscheinlichkeit   Hypothese\n",
      "----------------------------\n",
      "              0.33   B1\n",
      "              0.33   B2\n",
      "              0.33   B3\n",
      "\n",
      "\n",
      "Beobachtungen: ['s', 's', 's', 'r', 'r', 's', 's', 's', 's', 'r']\n",
      "\n",
      "\n",
      "Annahmen nach der Beobachtung\n",
      "Wahrscheinlichkeit   Hypothese\n",
      "----------------------------\n",
      "              0.68   B1\n",
      "              0.32   B2\n",
      "              0.01   B3\n"
     ]
    }
   ],
   "source": [
    "# Wir simulieren das Vorliegen von Urne B1\n",
    "urnen = Bayes({B1: 1/3, B2: 1/3, B3: 1/3})\n",
    "print(\"Annahmen vor der Beobachtung\")\n",
    "urnen.ausgabe()\n",
    "\n",
    "beobachtungen = [B1.X() for _ in range(10)]\n",
    "print('\\n\\nBeobachtungen:', beobachtungen)\n",
    "print()\n",
    "\n",
    "urnen.beobachtung(beobachtungen, False)\n",
    "print(\"\\nAnnahmen nach der Beobachtung\")\n",
    "urnen.ausgabe()"
   ]
  },
  {
   "cell_type": "code",
   "execution_count": 8,
   "metadata": {},
   "outputs": [
    {
     "data": {
      "image/png": "[encoded data removed]",
      "text/plain": [
       "<Figure size 864x1152 with 8 Axes>"
      ]
     },
     "metadata": {
      "needs_background": "light"
     },
     "output_type": "display_data"
    }
   ],
   "source": [
    "import matplotlib.pyplot as plt\n",
    "# Wir simulieren das Vorliegen von Urne B1\n",
    "urnen = Bayes({B1: 1/3, B2: 1/3, B3: 1/3})\n",
    "beobachtungen = [B1.X() for _ in range(4)]\n",
    "fig, axes = plt.subplots(len(beobachtungen), 2, figsize=(12,4*len(beobachtungen)))\n",
    "for b, i in zip(beobachtungen, range(len(beobachtungen))):\n",
    "    apriori = urnen.get()\n",
    "    urnen.beobachtung(b, False)\n",
    "    aposteriori = urnen.get()\n",
    "    y, names = zip(*apriori)\n",
    "    axes[i][0].bar(range(len(y)), y, align=\"center\", tick_label=names, width=0.5, alpha=0.5)\n",
    "    axes[i][0].set_title('Apriori-Wahrscheinlichkeiten')\n",
    "    axes[i][0].set_ylim(0,1)\n",
    "    y, names = zip(*aposteriori)\n",
    "    axes[i][1].bar(range(len(y)), y, align=\"center\", tick_label=names, width=0.5, alpha=0.5)\n",
    "    axes[i][1].set_title('Aposteriori-Wahrscheinlichkeiten, Beobachtung \"%s\"' % b)\n",
    "    axes[i][1].set_ylim(0,1)    "
   ]
  },
  {
   "cell_type": "code",
   "execution_count": null,
   "metadata": {},
   "outputs": [],
   "source": []
  }
 ],
 "metadata": {
  "kernelspec": {
   "display_name": "Python 3",
   "language": "python",
   "name": "python3"
  },
  "language_info": {
   "codemirror_mode": {
    "name": "ipython",
    "version": 3
   },
   "file_extension": ".py",
   "mimetype": "text/x-python",
   "name": "python",
   "nbconvert_exporter": "python",
   "pygments_lexer": "ipython3",
   "version": "3.6.10"
  }
 },
 "nbformat": 4,
 "nbformat_minor": 1
}
