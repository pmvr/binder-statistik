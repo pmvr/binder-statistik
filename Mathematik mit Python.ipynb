{
 "cells": [
  {
   "cell_type": "markdown",
   "metadata": {},
   "source": [
    "# Inhalt\n",
    "\n",
    "* [IPython-Notebooks](#ip-notebooks)\n",
    "* [Python als Taschenrechner](#erste_schritte)\n",
    "* [Symbolische Mathematik](#symbolische_mathematik)\n",
    "* [Graphische Ausgaben](#graphische_ausgaben)"
   ]
  },
  {
   "cell_type": "markdown",
   "metadata": {},
   "source": [
    "<a name=\"ip-notebooks\"></a>\n",
    "# IPython-Notebooks\n",
    "*Prof. Dr. Matthias Vögeler*\n",
    "\n",
    "Ein [IPython-Notebook](http://ipython.org/notebook.html) ist eine interaktive Entwicklunsumgebung. Es kann genutzt werden\n",
    "* um Python-Code auszuführen,\n",
    "* formatierten Text zu erzeugen,\n",
    "* Mathematik zu betreiben,\n",
    "* graphische Ausgaben zu erzeugen,\n",
    "* Daten zu analysieren.\n",
    "\n",
    "Ein IPython-Notebook ist eine Web-Applikation, alle Berechnungen werden auf dem Server durchgeführt, seine Ausgaben werden im Browser dargestellt. Die Ausgaben werden asynchron übertragen.\n",
    "\n",
    "Formatierter Text kann mit Hilfe der [Markdown-Syntax](http://daringfireball.net/projects/markdown) eingeben werden. Außerdem können LaTex-Formeln\n",
    "$$ F(x) = \\int_0^\\infty e^{-x} \\; dx $$\n",
    "dargestellt werden.\n",
    "\n",
    "Das Einbetten von YouTube-Videos ist ebenfalls möglich."
   ]
  },
  {
   "cell_type": "code",
   "execution_count": 1,
   "metadata": {},
   "outputs": [
    {
     "data": {
      "image/jpeg": "[encoded data removed]",
      "text/html": [
       "\n",
       "        <iframe\n",
       "            width=\"400\"\n",
       "            height=\"300\"\n",
       "            src=\"https://www.youtube.com/embed/qb7FT68tcA8\"\n",
       "            frameborder=\"0\"\n",
       "            allowfullscreen\n",
       "            \n",
       "        ></iframe>\n",
       "        "
      ],
      "text/plain": [
       "<IPython.lib.display.YouTubeVideo at 0x7f841675e790>"
      ]
     },
     "execution_count": 1,
     "metadata": {},
     "output_type": "execute_result"
    }
   ],
   "source": [
    "from IPython.display import YouTubeVideo\n",
    "YouTubeVideo(\"qb7FT68tcA8\")"
   ]
  },
  {
   "cell_type": "markdown",
   "metadata": {},
   "source": [
    "IPython-Notebooks können leicht in andere Formate wie HTML oder PDF exportiert werden.\n",
    "\n",
    "Einen guten Überblick über die vielfältigen Möglichkeiten dieser Entwicklungsumgebung kann man durch stöbern in [Gallerien](https://github.com/jupyter/jupyter/wiki/A-gallery-of-interesting-Jupyter-Notebooks) gewinnen."
   ]
  },
  {
   "cell_type": "markdown",
   "metadata": {},
   "source": [
    "<a name=\"erste_schritte\"></a> \n",
    "## Erste Schritte\n",
    "Python kann wie ein Taschenrechner verwendet werden:"
   ]
  },
  {
   "cell_type": "code",
   "execution_count": 2,
   "metadata": {},
   "outputs": [
    {
     "data": {
      "text/plain": [
       "-90"
      ]
     },
     "execution_count": 2,
     "metadata": {},
     "output_type": "execute_result"
    }
   ],
   "source": [
    "# Addition/Subtraktion\n",
    "10-100"
   ]
  },
  {
   "cell_type": "code",
   "execution_count": 3,
   "metadata": {},
   "outputs": [
    {
     "data": {
      "text/plain": [
       "15113948850"
      ]
     },
     "execution_count": 3,
     "metadata": {},
     "output_type": "execute_result"
    }
   ],
   "source": [
    "# Multiplikation\n",
    "234234*64525"
   ]
  },
  {
   "cell_type": "code",
   "execution_count": 4,
   "metadata": {},
   "outputs": [
    {
     "data": {
      "text/plain": [
       "[1.5, 1]"
      ]
     },
     "execution_count": 4,
     "metadata": {},
     "output_type": "execute_result"
    }
   ],
   "source": [
    "# Division\n",
    "[3/2, 3//2]"
   ]
  },
  {
   "cell_type": "code",
   "execution_count": 5,
   "metadata": {},
   "outputs": [
    {
     "data": {
      "text/plain": [
       "13407807929942597099574024998205846127479365820592393377723561443721764030073546976801874298166903427690031858186486050853753882811946569946433649006084096"
      ]
     },
     "execution_count": 5,
     "metadata": {},
     "output_type": "execute_result"
    }
   ],
   "source": [
    "# Exponentiation\n",
    "2**512"
   ]
  },
  {
   "cell_type": "code",
   "execution_count": 6,
   "metadata": {},
   "outputs": [
    {
     "name": "stdout",
     "output_type": "stream",
     "text": [
      "234234 mod 31234234 = 29\n",
      "2^512 mod 3 = 1\n"
     ]
    }
   ],
   "source": [
    "# modulare Arithmetik\n",
    "print(f'234234 mod 31234234 = {234234 %31}')\n",
    "print(f'2^512 mod 3 = {pow(2,512,3)}')"
   ]
  },
  {
   "cell_type": "markdown",
   "metadata": {},
   "source": [
    "Beim Rechnen mit Zahlen sind 2 Datentypen zu unterscheiden: Fließkommazahlen (double-precision) und Ganzzahlen ($\\mathbb Z$).\n",
    "\n",
    "Auch können Variablen und Funktionen definert werden."
   ]
  },
  {
   "cell_type": "code",
   "execution_count": 2,
   "metadata": {},
   "outputs": [
    {
     "name": "stdout",
     "output_type": "stream",
     "text": [
      "    0.0000    0.0000\n",
      "    0.5000    0.3835\n",
      "    1.0000    0.4207\n",
      "    1.5000    0.3069\n",
      "    2.0000    0.1819\n",
      "    2.5000    0.0825\n"
     ]
    }
   ],
   "source": [
    "from math import sin\n",
    "import numpy as np\n",
    "\n",
    "def f(x):\n",
    "    return sin(x)/(x**2 +1)\n",
    "\n",
    "Wertetabelle = [(x,f(x)) for x in np.arange(0.0,3.0,0.5)]\n",
    "\n",
    "for x, f in Wertetabelle:\n",
    "    print(\"{:10.4f}{:10.4f}\".format(x,f))"
   ]
  },
  {
   "cell_type": "code",
   "execution_count": 3,
   "metadata": {},
   "outputs": [
    {
     "data": {
      "text/plain": [
       "array([0. , 0.1, 0.2, 0.3, 0.4, 0.5, 0.6, 0.7, 0.8, 0.9, 1. , 1.1, 1.2,\n",
       "       1.3, 1.4, 1.5, 1.6, 1.7, 1.8, 1.9, 2. , 2.1, 2.2, 2.3, 2.4, 2.5,\n",
       "       2.6, 2.7, 2.8, 2.9, 3. , 3.1, 3.2, 3.3, 3.4, 3.5, 3.6, 3.7, 3.8,\n",
       "       3.9, 4. , 4.1, 4.2, 4.3, 4.4, 4.5, 4.6, 4.7, 4.8, 4.9, 5. , 5.1,\n",
       "       5.2, 5.3, 5.4, 5.5, 5.6, 5.7, 5.8, 5.9, 6. , 6.1, 6.2, 6.3, 6.4,\n",
       "       6.5, 6.6, 6.7, 6.8, 6.9, 7. , 7.1, 7.2, 7.3, 7.4, 7.5, 7.6, 7.7,\n",
       "       7.8, 7.9, 8. , 8.1, 8.2, 8.3, 8.4, 8.5, 8.6, 8.7, 8.8, 8.9, 9. ,\n",
       "       9.1, 9.2, 9.3, 9.4, 9.5, 9.6, 9.7, 9.8, 9.9])"
      ]
     },
     "execution_count": 3,
     "metadata": {},
     "output_type": "execute_result"
    }
   ],
   "source": [
    "np.arange(0,10,0.1)"
   ]
  },
  {
   "cell_type": "markdown",
   "metadata": {},
   "source": [
    "Autovervollständigung erhält man druch Drücken von **TAB** und Hilfe durch **SHIFT-TAB**."
   ]
  },
  {
   "cell_type": "markdown",
   "metadata": {},
   "source": [
    "## Vektoren und Matrizen\n",
    "\n",
    "Zum Anlegen von mehrdimensionalen Datenstrukturen, Z.B. Matrizen, kann die Klasse `array` der `numpy`-Bibliothek verwendent werden."
   ]
  },
  {
   "cell_type": "code",
   "execution_count": 5,
   "metadata": {},
   "outputs": [
    {
     "name": "stdout",
     "output_type": "stream",
     "text": [
      "A = \n",
      " [[ 2  4  0]\n",
      " [-1  0  3]]\n",
      "3A = \n",
      " [[ 6 12  0]\n",
      " [-3  0  9]]\n",
      "A^t = \n",
      " [[ 2 -1]\n",
      " [ 4  0]\n",
      " [ 0  3]]\n",
      "(2A + A)*A^t= \n",
      " [[60 -6]\n",
      " [-6 30]]\n"
     ]
    }
   ],
   "source": [
    "A = np.array([[2,4,0],[-1,0,3]])\n",
    "print(\"A = \\n\",A)\n",
    "print(\"3A = \\n\",3*A)\n",
    "print(\"A^t = \\n\",A.transpose())\n",
    "print(\"(2A + A)*A^t= \\n\",np.dot(2*A+A, A.transpose()))"
   ]
  },
  {
   "cell_type": "markdown",
   "metadata": {},
   "source": [
    "Die Elemente eines Arrays können zugleich ausgewertet werden."
   ]
  },
  {
   "cell_type": "code",
   "execution_count": 10,
   "metadata": {},
   "outputs": [
    {
     "data": {
      "text/plain": [
       "array([[ 7.3890561 , 54.59815003,  1.        ],\n",
       "       [ 0.36787944,  1.        , 20.08553692]])"
      ]
     },
     "execution_count": 10,
     "metadata": {},
     "output_type": "execute_result"
    }
   ],
   "source": [
    "np.exp(A)"
   ]
  },
  {
   "cell_type": "markdown",
   "metadata": {},
   "source": [
    "Es sind keine `for`-Schleifen notwendig, was enorm Rechenzeit spart."
   ]
  },
  {
   "cell_type": "code",
   "execution_count": 9,
   "metadata": {},
   "outputs": [
    {
     "name": "stdout",
     "output_type": "stream",
     "text": [
      "79 µs ± 583 ns per loop (mean ± std. dev. of 7 runs, 10,000 loops each)\n"
     ]
    }
   ],
   "source": [
    "%timeit [sin(x) for x in np.arange(0,6,0.01)]"
   ]
  },
  {
   "cell_type": "code",
   "execution_count": 10,
   "metadata": {},
   "outputs": [
    {
     "name": "stdout",
     "output_type": "stream",
     "text": [
      "10.3 µs ± 50.3 ns per loop (mean ± std. dev. of 7 runs, 100,000 loops each)\n"
     ]
    }
   ],
   "source": [
    "%timeit np.sin(np.arange(0,6,0.01))"
   ]
  },
  {
   "cell_type": "markdown",
   "metadata": {},
   "source": [
    "### Lösen von linearen Gleichungssystemen\n",
    "\n",
    "Wir wollen das folgende Gleichungssystem lösen\n",
    "\n",
    "$$ \\begin{pmatrix}\n",
    "        2 & 3 & -1 & 0 \\\\\n",
    "        4 & 6 & 2 & -3 \\\\\n",
    "        -6 & -5 & 0 & 2 \\\\\n",
    "        2 & -5 & 6 & -6\n",
    "       \\end{pmatrix}\n",
    "       \\cdot x = \n",
    "       \\begin{pmatrix} -1 \\\\ 2 \\\\ 0 \\\\ 1 \\end{pmatrix}\n",
    "$$"
   ]
  },
  {
   "cell_type": "code",
   "execution_count": 11,
   "metadata": {},
   "outputs": [
    {
     "name": "stdout",
     "output_type": "stream",
     "text": [
      "x = \n",
      " [[1.125]\n",
      " [0.25 ]\n",
      " [4.   ]\n",
      " [4.   ]]\n",
      "A x = \n",
      " [[-1.]\n",
      " [ 2.]\n",
      " [ 0.]\n",
      " [ 1.]]\n",
      "x = A^(-1) b\n",
      " [[1.125]\n",
      " [0.25 ]\n",
      " [4.   ]\n",
      " [4.   ]]\n"
     ]
    }
   ],
   "source": [
    "A = np.array([[2,3,-1,0],[4,6,2,-3],[-6,-5,0,2],[2,-5,6,-6]])\n",
    "b = np.array([[-1],[2],[0],[1]])\n",
    "\n",
    "x = np.linalg.solve(A,b)\n",
    "print(\"x = \\n\",x)\n",
    "print(\"A x = \\n\",np.dot(A,x))\n",
    "print(\"x = A^(-1) b\\n\", np.dot(np.linalg.inv(A),b))"
   ]
  },
  {
   "cell_type": "markdown",
   "metadata": {},
   "source": [
    "Für Standardmartizen gibt es fertige `numpy`-Funktionen.\n",
    "\n",
    "* `np.zeros((3,2))`  liefert eine (3,2)-Nullmatrix,\n",
    "* `np.eye(4)` eine (4,4)-Einheitsmatrix,\n",
    "* `np.empty((2,3))` eine nicht-initialisierte (2,3)-Matrix."
   ]
  },
  {
   "cell_type": "markdown",
   "metadata": {},
   "source": [
    "<a name=\"symbolische_mathematik\"></a> \n",
    "## Symbolische Mathematik\n",
    "\n",
    "Wenn man nicht an numerische Rechnungen interessiert ist, sondern symbolische mathematiche Umformungen ausführen möchte, so kann man das Modul `sympy` verwenden. Hier die [Dokumentation](http://docs.sympy.org).\n",
    "\n",
    "Der folgende Abschnitt zeigt ein paar einfache Rechnungen zu den Themen:\n",
    "* Nullstellen eines Polynoms,\n",
    "* Integral- und Differentialrechnung,\n",
    "* Matrizenrechnung"
   ]
  },
  {
   "cell_type": "code",
   "execution_count": 12,
   "metadata": {},
   "outputs": [
    {
     "data": {
      "image/png": "[encoded data removed]",
      "text/latex": [
       "$\\displaystyle \\left[ - \\frac{2}{3} + \\left(- \\frac{1}{2} - \\frac{\\sqrt{3} i}{2}\\right) \\sqrt[3]{\\frac{\\sqrt{87}}{9} + \\frac{28}{27}} + \\frac{1}{9 \\left(- \\frac{1}{2} - \\frac{\\sqrt{3} i}{2}\\right) \\sqrt[3]{\\frac{\\sqrt{87}}{9} + \\frac{28}{27}}}, \\  - \\frac{2}{3} + \\frac{1}{9 \\left(- \\frac{1}{2} + \\frac{\\sqrt{3} i}{2}\\right) \\sqrt[3]{\\frac{\\sqrt{87}}{9} + \\frac{28}{27}}} + \\left(- \\frac{1}{2} + \\frac{\\sqrt{3} i}{2}\\right) \\sqrt[3]{\\frac{\\sqrt{87}}{9} + \\frac{28}{27}}, \\  - \\frac{2}{3} + \\frac{1}{9 \\sqrt[3]{\\frac{\\sqrt{87}}{9} + \\frac{28}{27}}} + \\sqrt[3]{\\frac{\\sqrt{87}}{9} + \\frac{28}{27}}\\right]$"
      ],
      "text/plain": [
       "⎡                       __________                                            \n",
       "⎢  2   ⎛  1   √3⋅ⅈ⎞    ╱ √87   28                  1                  2       \n",
       "⎢- ─ + ⎜- ─ - ────⎟⋅3 ╱  ─── + ──  + ─────────────────────────────, - ─ + ────\n",
       "⎢  3   ⎝  2    2  ⎠ ╲╱    9    27                       __________    3       \n",
       "⎢                                      ⎛  1   √3⋅ⅈ⎞    ╱ √87   28           ⎛ \n",
       "⎢                                    9⋅⎜- ─ - ────⎟⋅3 ╱  ─── + ──         9⋅⎜-\n",
       "⎣                                      ⎝  2    2  ⎠ ╲╱    9    27           ⎝ \n",
       "\n",
       "                                             __________                       \n",
       "          1                 ⎛  1   √3⋅ⅈ⎞    ╱ √87   28     2          1       \n",
       "───────────────────────── + ⎜- ─ + ────⎟⋅3 ╱  ─── + ── , - ─ + ───────────────\n",
       "               __________   ⎝  2    2  ⎠ ╲╱    9    27     3         _________\n",
       " 1   √3⋅ⅈ⎞    ╱ √87   28                                            ╱ √87   28\n",
       " ─ + ────⎟⋅3 ╱  ─── + ──                                       9⋅3 ╱  ─── + ──\n",
       " 2    2  ⎠ ╲╱    9    27                                         ╲╱    9    27\n",
       "\n",
       "        __________⎤\n",
       "       ╱ √87   28 ⎥\n",
       "─ + 3 ╱  ─── + ── ⎥\n",
       "_   ╲╱    9    27 ⎥\n",
       "                  ⎥\n",
       "                  ⎥\n",
       "                  ⎦"
      ]
     },
     "execution_count": 12,
     "metadata": {},
     "output_type": "execute_result"
    }
   ],
   "source": [
    "from sympy import *\n",
    "init_printing()\n",
    "\n",
    "x = symbols('x')\n",
    "\n",
    "# Berechnet die 3 Nullstellen eines Polynoms vom Grad 3\n",
    "solve(x**3 + 2*x**2 + x - 2, x)"
   ]
  },
  {
   "cell_type": "code",
   "execution_count": 13,
   "metadata": {},
   "outputs": [
    {
     "data": {
      "image/png": "[encoded data removed]",
      "text/latex": [
       "$\\displaystyle 12 x^{4} e^{x^{2}} \\cos{\\left(3 x^{4} \\right)} + 2 x^{2} e^{x^{2}} \\sin{\\left(3 x^{4} \\right)} + e^{x^{2}} \\sin{\\left(3 x^{4} \\right)}$"
      ],
      "text/plain": [
       "       ⎛ 2⎞                   ⎛ 2⎞              ⎛ 2⎞          \n",
       "    4  ⎝x ⎠    ⎛   4⎞      2  ⎝x ⎠    ⎛   4⎞    ⎝x ⎠    ⎛   4⎞\n",
       "12⋅x ⋅ℯ    ⋅cos⎝3⋅x ⎠ + 2⋅x ⋅ℯ    ⋅sin⎝3⋅x ⎠ + ℯ    ⋅sin⎝3⋅x ⎠"
      ]
     },
     "execution_count": 13,
     "metadata": {},
     "output_type": "execute_result"
    }
   ],
   "source": [
    "# Berechnung einer Ableitung\n",
    "diff(sin(3*x**4)*exp(x**2)*x, x)"
   ]
  },
  {
   "cell_type": "code",
   "execution_count": 14,
   "metadata": {},
   "outputs": [
    {
     "data": {
      "image/png": "[encoded data removed]",
      "text/latex": [
       "$\\displaystyle \\frac{\\sqrt{2} \\sqrt{\\pi}}{4}$"
      ],
      "text/plain": [
       "√2⋅√π\n",
       "─────\n",
       "  4  "
      ]
     },
     "execution_count": 14,
     "metadata": {},
     "output_type": "execute_result"
    }
   ],
   "source": [
    "# Berechnung eines Integrals\n",
    "integrate(sin(x**2), (x, 0, oo))"
   ]
  },
  {
   "cell_type": "code",
   "execution_count": 15,
   "metadata": {},
   "outputs": [
    {
     "data": {
      "image/png": "[encoded data removed]",
      "text/latex": [
       "$\\displaystyle \\frac{3 \\sqrt{2} \\sqrt{\\pi} S\\left(\\frac{\\sqrt{2} x}{\\sqrt{\\pi}}\\right) \\Gamma\\left(\\frac{3}{4}\\right)}{8 \\Gamma\\left(\\frac{7}{4}\\right)}$"
      ],
      "text/plain": [
       "         ⎛√2⋅x⎞       \n",
       "3⋅√2⋅√π⋅S⎜────⎟⋅Γ(3/4)\n",
       "         ⎝ √π ⎠       \n",
       "──────────────────────\n",
       "       8⋅Γ(7/4)       "
      ]
     },
     "execution_count": 15,
     "metadata": {},
     "output_type": "execute_result"
    }
   ],
   "source": [
    "integrate(sin(x**2))"
   ]
  },
  {
   "cell_type": "code",
   "execution_count": 16,
   "metadata": {},
   "outputs": [
    {
     "data": {
      "image/png": "[encoded data removed]",
      "text/latex": [
       "$\\displaystyle \\left\\{ \\frac{3}{2} - \\frac{\\sqrt{17}}{2} : 1, \\  \\frac{3}{2} + \\frac{\\sqrt{17}}{2} : 1\\right\\}$"
      ],
      "text/plain": [
       "⎧3   √17     3   √17   ⎫\n",
       "⎨─ - ───: 1, ─ + ───: 1⎬\n",
       "⎩2    2      2    2    ⎭"
      ]
     },
     "execution_count": 16,
     "metadata": {},
     "output_type": "execute_result"
    }
   ],
   "source": [
    "Matrix([[1, 2], [2, 2]]).eigenvals()"
   ]
  },
  {
   "cell_type": "markdown",
   "metadata": {},
   "source": [
    "<a name=\"graphische_ausgaben\"></a> \n",
    "## Graphische Ausgaben\n",
    "\n",
    "### matplotlib\n",
    "\n",
    "Zur Erstellung von wissenschaftlichen 2D/3D-Graphiken eignet sich das Modul `matplotlib` zusammen mit `numpy` sehr. Die Graphiken werden algorithmisch erzeugt und sind daher reproduzierbar.\n",
    "\n",
    "Die wesentlichen Stärken dieser Bibliothek sind:\n",
    "* Einfache Syntax, MatLab-ähnlich,\n",
    "* Unterstützung von LaTex-formatierten Beschriftungen,\n",
    "* Kontrolle der Eigenschaften jedes Elementes einer Grafik (z.B. Schriftart, Ausgabegröße und Auflösung),\n",
    "* Export in andere Standarddateiformate, z.B. PNG, JPG, SVG, PDF\n",
    "\n",
    "Ein großartiges IPython-Notebook zu `matplotlib` findet sich [hier](http://nbviewer.ipython.org/github/jrjohansson/scientific-python-lectures/blob/master/Lecture-4-Matplotlib.ipynb)."
   ]
  },
  {
   "cell_type": "code",
   "execution_count": 6,
   "metadata": {},
   "outputs": [],
   "source": [
    "# Graphiken werden in das Notebook integriert\n",
    "%matplotlib inline\n",
    "\n",
    "import numpy as np\n",
    "import matplotlib.pyplot as plt\n",
    "from math import pi"
   ]
  },
  {
   "cell_type": "code",
   "execution_count": 7,
   "metadata": {},
   "outputs": [
    {
     "data": {
      "text/plain": [
       "[]"
      ]
     },
     "execution_count": 7,
     "metadata": {},
     "output_type": "execute_result"
    },
    {
     "data": {
      "image/png": "[encoded data removed]",
      "text/plain": [
       "<Figure size 432x288 with 1 Axes>"
      ]
     },
     "metadata": {
      "needs_background": "light"
     },
     "output_type": "display_data"
    }
   ],
   "source": [
    "x = np.linspace(-pi,pi,50)\n",
    "y = x*np.sin(x)**2\n",
    "plt.plot(x,y,label=\"$y(x) = x \\cdot \\sin(x)^2$\")\n",
    "plt.plot(x,np.sin(x**2)/x,label=\"$y(x) = \\sin(x^2) / x$\")\n",
    "plt.legend(loc=2)\n",
    "plt.xlabel('x')\n",
    "plt.ylabel('y')\n",
    "plt.plot()"
   ]
  },
  {
   "cell_type": "code",
   "execution_count": 8,
   "metadata": {},
   "outputs": [
    {
     "name": "stdout",
     "output_type": "stream",
     "text": [
      "[-3.14159265 -3.01336438 -2.88513611 -2.75690784 -2.62867957 -2.5004513\n",
      " -2.37222302 -2.24399475 -2.11576648 -1.98753821 -1.85930994 -1.73108167\n",
      " -1.60285339 -1.47462512 -1.34639685 -1.21816858 -1.08994031 -0.96171204\n",
      " -0.83348377 -0.70525549 -0.57702722 -0.44879895 -0.32057068 -0.19234241\n",
      " -0.06411414  0.06411414  0.19234241  0.32057068  0.44879895  0.57702722\n",
      "  0.70525549  0.83348377  0.96171204  1.08994031  1.21816858  1.34639685\n",
      "  1.47462512  1.60285339  1.73108167  1.85930994  1.98753821  2.11576648\n",
      "  2.24399475  2.37222302  2.5004513   2.62867957  2.75690784  2.88513611\n",
      "  3.01336438  3.14159265]\n",
      "[-4.71163432e-32 -4.92762474e-02 -1.85631527e-01 -3.88242442e-01\n",
      " -6.32995808e-01 -8.94501962e-01 -1.14809477e+00 -1.37166528e+00\n",
      " -1.54719475e+00 -1.66188096e+00 -1.70878774e+00 -1.68698734e+00\n",
      " -1.60120678e+00 -1.46102846e+00 -1.27972925e+00 -1.07286906e+00\n",
      " -8.56756659e-01 -6.46926883e-01 -4.56758699e-01 -2.96348395e-01\n",
      " -1.71728107e-01 -8.44886909e-02 -3.18304850e-02 -7.02850341e-03\n",
      " -2.63188084e-04  2.63188084e-04  7.02850341e-03  3.18304850e-02\n",
      "  8.44886909e-02  1.71728107e-01  2.96348395e-01  4.56758699e-01\n",
      "  6.46926883e-01  8.56756659e-01  1.07286906e+00  1.27972925e+00\n",
      "  1.46102846e+00  1.60120678e+00  1.68698734e+00  1.70878774e+00\n",
      "  1.66188096e+00  1.54719475e+00  1.37166528e+00  1.14809477e+00\n",
      "  8.94501962e-01  6.32995808e-01  3.88242442e-01  1.85631527e-01\n",
      "  4.92762474e-02  4.71163432e-32]\n"
     ]
    }
   ],
   "source": [
    "print(x)\n",
    "print(y)"
   ]
  },
  {
   "cell_type": "markdown",
   "metadata": {},
   "source": [
    "#### Weitere 2D-Grafikformate\n",
    "\n",
    "Siehe dazu [hier](http://nbviewer.ipython.org/github/jrjohansson/scientific-python-lectures/blob/master/Lecture-4-Matplotlib.ipynb#Other-2D-plot-styles)"
   ]
  },
  {
   "cell_type": "code",
   "execution_count": 20,
   "metadata": {},
   "outputs": [
    {
     "data": {
      "image/png": "[encoded data removed]",
      "text/plain": [
       "<Figure size 864x216 with 4 Axes>"
      ]
     },
     "metadata": {
      "needs_background": "light"
     },
     "output_type": "display_data"
    }
   ],
   "source": [
    "fig, axes = plt.subplots(1, 4, figsize=(12,3))\n",
    "\n",
    "xx = np.linspace(-0.75, 1., 100)\n",
    "axes[0].scatter(xx, xx + 0.25*np.random.randn(len(xx)))\n",
    "axes[0].set_title(\"Streudiagramm\")\n",
    "\n",
    "n = np.array([0,1,2,3,4,5])\n",
    "\n",
    "axes[1].step(n, n**2, lw=2)\n",
    "axes[1].set_title(\"Stufendiagramm\")\n",
    "\n",
    "axes[2].bar(n, n**2, align=\"center\", width=0.5, alpha=0.5)\n",
    "axes[2].set_title(\"Balkendiagramm\")\n",
    "\n",
    "axes[3].fill_between(x, x**2, x**3, color=\"green\", alpha=0.5);\n",
    "axes[3].set_title(\"Fläche zwischen 2 Graphen\");"
   ]
  },
  {
   "cell_type": "markdown",
   "metadata": {},
   "source": [
    "### bqplot\n",
    "\n",
    "[bqplot](https://github.com/bqplot/bqplot) ist eine interaktive 2D-Grafikbibliothek, es baut eine Brücke zwischen `Python` und `d3.js` "
   ]
  },
  {
   "cell_type": "code",
   "execution_count": 21,
   "metadata": {},
   "outputs": [],
   "source": [
    "import bqplot.pyplot as bqplt\n",
    "from ipywidgets import FloatSlider, HBox, VBox\n",
    "import numpy as np"
   ]
  },
  {
   "cell_type": "code",
   "execution_count": 22,
   "metadata": {},
   "outputs": [],
   "source": [
    "def sinus(amplitude = 1.0, freq=1.0, phi=0.0):\n",
    "    x = np.arange(-6, 6, 0.01)\n",
    "    y = amplitude * np.sin(freq * x + phi)\n",
    "    return x, y"
   ]
  },
  {
   "cell_type": "code",
   "execution_count": 23,
   "metadata": {},
   "outputs": [],
   "source": [
    "x, y = sinus()\n",
    "\n",
    "# plot the sinus\n",
    "title = f'{1:.1f} sin({1:.1f} x + {1:.1f})'\n",
    "fig = bqplt.figure(title=title)\n",
    "fig_line = bqplt.plot(x, y, 'm', stroke_width=3)\n",
    "bqplt.ylim(-2,2)\n",
    "\n",
    "# use 3 sliders to represent amplitude, freq, phi\n",
    "amplitude_slider = FloatSlider(description='amplitude', value=1, min=-2, max=2, step=0.1)\n",
    "freq_slider = FloatSlider(description='freq', value=1, min=0.1, max=4, step=0.1)\n",
    "phi_slider = FloatSlider(description='phi', value=0, min=-4, max=4, step=0.1)\n",
    "\n",
    "slider_layout = HBox([amplitude_slider, freq_slider, phi_slider])"
   ]
  },
  {
   "cell_type": "code",
   "execution_count": 24,
   "metadata": {},
   "outputs": [],
   "source": [
    "def update_sinus(change):\n",
    "    amplitude = amplitude_slider.value\n",
    "    freq = freq_slider.value\n",
    "    phi = phi_slider.value\n",
    "    # update y\n",
    "    fig_line.x, fig_line.y = sinus(amplitude, freq, phi)\n",
    "    # also update the fig title\n",
    "    fig.title = f'{amplitude:.1f} sin({freq:.1f} x + {phi:.1f})'\n",
    "\n",
    "# register the above callback with the 'value' trait of the sliders\n",
    "for slider in [amplitude_slider, freq_slider, phi_slider]:\n",
    "    slider.observe(update_sinus, 'value')"
   ]
  },
  {
   "cell_type": "code",
   "execution_count": 25,
   "metadata": {},
   "outputs": [
    {
     "data": {
      "application/vnd.jupyter.widget-view+json": {
       "model_id": "6ed20dacbd2f442884d66677b5fa551e",
       "version_major": 2,
       "version_minor": 0
      },
      "text/plain": [
       "VBox(children=(Figure(axes=[Axis(scale=LinearScale(), side='bottom'), Axis(orientation='vertical', scale=Linea…"
      ]
     },
     "metadata": {},
     "output_type": "display_data"
    }
   ],
   "source": [
    "final_layout = VBox([fig, slider_layout])\n",
    "final_layout"
   ]
  },
  {
   "cell_type": "code",
   "execution_count": null,
   "metadata": {},
   "outputs": [],
   "source": []
  }
 ],
 "metadata": {
  "kernelspec": {
   "display_name": "Python 3 (ipykernel)",
   "language": "python",
   "name": "python3"
  },
  "language_info": {
   "codemirror_mode": {
    "name": "ipython",
    "version": 3
   },
   "file_extension": ".py",
   "mimetype": "text/x-python",
   "name": "python",
   "nbconvert_exporter": "python",
   "pygments_lexer": "ipython3",
   "version": "3.9.13"
  },
  "widgets": {
   "application/vnd.jupyter.widget-state+json": {
    "state": {},
    "version_major": 2,
    "version_minor": 0
   }
  }
 },
 "nbformat": 4,
 "nbformat_minor": 4
}
